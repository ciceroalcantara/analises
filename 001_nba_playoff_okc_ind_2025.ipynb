{
  "cells": [
    {
      "cell_type": "markdown",
      "metadata": {
        "id": "rueJd0j4OVjK"
      },
      "source": []
    },
    {
      "cell_type": "markdown",
      "metadata": {
        "id": "K8-4cBNuWRak"
      },
      "source": [
        "# A Batalha dos \"Underdogs\": Análise de dados dos Pacers e do Thunder - Playoff NBA 2025\n",
        "\n",
        "Sempre fui fascinado por basquete, em especial a NBA pelo nível técnico que os jogadores tem, a estética e também sempre achei interessante porque qualquer coisa que o jogador faça em quadra vira um número. Uma vez eu li que as estatísticas na NBA servem para formar a linguagem universal do basquete moderno e entender, no detalhe, a deficiência do seu time ou do porque ele ser tão bom.\n",
        "\n",
        "Com isso nós conseguimos entender o porquê o Lebrom James é tão bom ou porque ele é tão diferente dos outros. Hoje o esporte profissional e moderno nos obriga a entender no detalhe os seus atletas e seus times, todos os movimentos das franquias precisam ser pensados e justificados, uma vez que um único contrato de jogador pode custar 288 milhões de reais, uma única temporada.\n",
        "\n",
        "Pensando nisso eu criei uma forma de consumir esses dados que estão na internet e disponível pra todo mundo de graça, o melhor cenário pra isso vai ser a temporada 2025 da NBA onde 2 times que nunca foram campões da NBA chegaram até a final da temporada, Indiana Pacers e Oklahoma City Thunder.\n",
        "\n",
        "Neste projeto, explorei os dados usando Web Scraping com PYTHON, PANDAS, SEABORRN e MATPLOTLIB para visualizações, para comparar algumas métricas, como por exemplo, a relação entre a eficiência de ataque e eficiência de defesa de cada jogador dos 2 times.\n",
        "\n",
        "Pra que seja possível realizar a analise nós precisamos das estatísticas dos jogadores da temporada 2025, mais especificamente as estatísticas do playoff da temporada 2025, usamos o site 'Basketball Reference', nesse site nós podemos encontrar diversas estatísticas de diversas temporadas da NBA.\n"
      ]
    },
    {
      "cell_type": "markdown",
      "metadata": {
        "id": "BGC_JVn_WuJp"
      },
      "source": [
        "# Extração dos dados (Web Scraping)"
      ]
    },
    {
      "cell_type": "markdown",
      "metadata": {
        "id": "ZL4xTogxOl-b"
      },
      "source": [
        "## Importando os módulos\n",
        "\n",
        "De início nós precisamos extrair os dados da web e escolher as bibliotecas que vamos utilizar pra isso, eu optei por usar as bibliotecas: cloudscraper pra fazer a requisição do link que vamos usar, BeautifulSoup pra fazer a extração dos dados e pandas pra criar alguns data frames no meio do projeto."
      ]
    },
    {
      "cell_type": "code",
      "execution_count": 94,
      "metadata": {
        "id": "5MKibpEbORmK"
      },
      "outputs": [],
      "source": [
        "import cloudscraper\n",
        "from bs4 import BeautifulSoup\n",
        "import pandas as pd\n",
        "import matplotlib.pyplot as plt\n",
        "import seaborn as sns"
      ]
    },
    {
      "cell_type": "markdown",
      "metadata": {
        "id": "BewrU0-1PGmL"
      },
      "source": [
        "## Variáveis\n",
        "\n",
        "Nesse trecho do código nós especificamos em uma variável a temporada que queremos extrair as estatísticas, isso nos ajuda a organizar o código, para utilizar o parâmetro ao longo do código e caso a gente queira extrair as estatísticas de outras temporadas a gente só precisa alterar esse parâmetro."
      ]
    },
    {
      "cell_type": "code",
      "execution_count": 95,
      "metadata": {
        "id": "2sokAf7iPbkI"
      },
      "outputs": [],
      "source": [
        "temporada = 2025"
      ]
    },
    {
      "cell_type": "markdown",
      "metadata": {
        "id": "AWJnmDvmPy6L"
      },
      "source": [
        "## Acessando a pagina com os dados\n",
        "Nesse bloco tentamos acessar a página e retornar o status dela usando a biblioteca 'cloudscraper', a utilização dessa biblioteca foi necessária pra contornar a proteção do site, não consegui fazer o acesso usando a biblioteca 'requests'."
      ]
    },
    {
      "cell_type": "code",
      "execution_count": 96,
      "metadata": {
        "colab": {
          "base_uri": "https://localhost:8080/"
        },
        "id": "Ly3YyM4KP50z",
        "outputId": "5b273f07-3a62-4958-83f8-b13ed0837118"
      },
      "outputs": [
        {
          "data": {
            "text/plain": [
              "200"
            ]
          },
          "execution_count": 96,
          "metadata": {},
          "output_type": "execute_result"
        }
      ],
      "source": [
        "scraper = cloudscraper.create_scraper()\n",
        "\n",
        "url = f\"https://www.basketball-reference.com/leagues/NBA_{temporada}_totals.html\"\n",
        "\n",
        "resp = scraper.get(url)\n",
        "\n",
        "resp.status_code"
      ]
    },
    {
      "cell_type": "markdown",
      "metadata": {
        "id": "mGeiPADLQZ3e"
      },
      "source": [
        "## Preparar conteudo HTML\n",
        "\n",
        "Nesse trecho do código nós pegamos o texto em HTML do link e transformamos em uma estrutura que seja navegável pelo PYTHON e garantimos que os caracteres sejam exibidos de forma correta."
      ]
    },
    {
      "cell_type": "code",
      "execution_count": 97,
      "metadata": {
        "colab": {
          "base_uri": "https://localhost:8080/"
        },
        "id": "SrUPgqAxYKD9",
        "outputId": "9b0a42b2-56ec-4cd3-9845-c25762e3b382"
      },
      "outputs": [],
      "source": [
        "resp.encoding = 'utf-8'\n",
        "soup = BeautifulSoup(resp.text, 'html.parser')"
      ]
    },
    {
      "cell_type": "markdown",
      "metadata": {
        "id": "ha8jmJ_SYTxo"
      },
      "source": [
        "## Extrair dados de jogadores\n",
        "\n",
        "Nesse trecho de código nós fazemos a extração dos dados dos jogadores a partir de onde esse dado se encontra dentro do HTML que nós tratamos."
      ]
    },
    {
      "cell_type": "code",
      "execution_count": 98,
      "metadata": {
        "colab": {
          "base_uri": "https://localhost:8080/"
        },
        "id": "HiJtspQIYrK2",
        "outputId": "aca7a727-5252-40e0-fdd8-1f9a8feb004d"
      },
      "outputs": [],
      "source": [
        "# Pega os elementos do html que estão na tag 'tr'\n",
        "linha = soup.findAll('tr')[1:]\n",
        "\n",
        "# Primeiro criamos uma lista vazia para salvar as listas com as estatísticas de cada jogador\n",
        "players_stats_full = []\n",
        "\n",
        "for i in linha:\n",
        "    # Criamos uma lista vazia para salvar de forma independente as estatísticas de cada jogador\n",
        "    row_player_stats = []\n",
        "\n",
        "    for j in i.findAll('td'): # Para cada elemento com a tag 'td' no html...\n",
        "        row_player_stats.append(j.getText()) # ... salva dentro da lista individual do jogador\n",
        "\n",
        "    players_stats_full.append(row_player_stats) # Uma vez que a lista de estatísticas do jogador seja criada nós salvamos na lista principal com todos os jogadores.\n"
      ]
    },
    {
      "cell_type": "markdown",
      "metadata": {
        "id": "8OPoa1C0ZFY8"
      },
      "source": [
        "## Extraindo os campos das estatisticas\n",
        "\n",
        "Nesse trecho do código nós extraímos o cabeçalho da tabela do HTML que contém os nomes de cada campo.\n",
        "\n",
        "Dicionário de dados:\n",
        "\n",
        "* Player: Nome do jogador\n",
        "* Age: Idade do jogador\n",
        "* Team: Equipe do jogador\n",
        "* Pos: Posição em que o jogador joga\n",
        "* G: Jogos que foram jogados\n",
        "* GS: Quantidade de jogos que o jogador iniciou como titular\n",
        "* MP: Minutos jogados\n",
        "* FG: Quantidade de arremessos convertidos\n",
        "* FGA: Quantidade de tentativas de arremesso \n",
        "* FG%: Porcentagem de arremessos convertidos\n",
        "* 3P: Cestas de 3 pontos convertidas\n",
        "* 3PA: Tentativa de cesta de 3 pontos\n",
        "* 3P%: Porcentagem de cestas de 3 convertidas\n",
        "* 2P: Quantidade de cestas de 2\n",
        "* 2PA: Quantidade de tentativas de cesta de 2\n",
        "* 2P%: Porcentagem de cestas de 2 convertidas\n",
        "* eFG%: Porcentagem efetiva de FG - Essa estatística ajuda o fato que um FG de 3 pontos vale um ponto a mais do que um FG de 2 pontos\n",
        "* FT: Lances livres\n",
        "* FTA: Quantidade de tentativas de lance livre\n",
        "* FT%: Porcentagem de lances livres convertidos\n",
        "* ORB: Rebotes ofensivos\n",
        "* DRB: Rebotes defensivos\n",
        "* TRB: Total de rebotes\n",
        "* AST: Assistências\n",
        "* STL: Roubos de bola\n",
        "* BLK: Bloqueio\n",
        "* TOV: Turnovers\n",
        "* PF: Faltas pessoais\n",
        "* PTS: Pontos\n",
        "* Trp-Dbl: Quantidade de triplo-duplo\n",
        "* Awards: Prêmios"
      ]
    },
    {
      "cell_type": "code",
      "execution_count": 99,
      "metadata": {
        "colab": {
          "base_uri": "https://localhost:8080/"
        },
        "id": "F34nb2fZerqa",
        "outputId": "168e9280-bf3e-4d9a-a4c3-19c812e131b8"
      },
      "outputs": [],
      "source": [
        "# Pegar os campos do cabeçalho da tabela\n",
        "cabecalho = soup.findAll('tr', limit = 1)[0].findAll('th')\n",
        "\n",
        "# Cria uma lista com cada campo do cabeçalho e desconsidera o primeiro\n",
        "campos = [i.getText() for i in cabecalho][1:]"
      ]
    },
    {
      "cell_type": "markdown",
      "metadata": {
        "id": "faLlHS0qezNE"
      },
      "source": [
        "## Criação de data frame full\n",
        "\n",
        "Nesse trecho de código nós juntamos os campos aos dados de cada jogador e criamos um data frame com todas as estatísticas dos jogadores, tanto da temporada regular como do playoff e em seguida eu crio um arquivo CSV com esses dados.\n",
        "\n",
        "Observe que eu peço para desconsiderar jogadores que tem o nome 'League Average', isso não é um jogador e sim uma linha que fica ao final da tabela com estatística geral de todos os jogadores, eu não quero isso, se você quiser é só remover do código."
      ]
    },
    {
      "cell_type": "code",
      "execution_count": 100,
      "metadata": {
        "id": "1hZqkDLbfBnU"
      },
      "outputs": [],
      "source": [
        "# Cria um data frame com as estatísticas de cada jogador da temporada regular e playoff, e cria um arquivo csv.\n",
        "estatisticas = pd.DataFrame(players_stats_full, columns = campos)\n",
        "\n",
        "estatisticas_temporada = estatisticas[estatisticas['Player'] != 'League Average']\n",
        "\n",
        "estatisticas_temporada.head()\n",
        "\n",
        "estatisticas_temporada.to_csv(f\"arquivo_estatisticas_jogador_full_{temporada}.csv\", index=False)"
      ]
    },
    {
      "cell_type": "markdown",
      "metadata": {
        "id": "2zhtaFizf_9e"
      },
      "source": [
        "## Criação de data frames distintos de temporada regular e playoff\n",
        "\n",
        "O arquivo do data frame criado full é composto de estatísticas de temporada regular e de playoff de cada jogador.\n",
        "\n",
        "Desse modo foi necessário a divisão do data frame full em 2 distintos e o divisor foi uma linha vazia no meio do df.\n",
        "\n",
        "Nesse ponto é importante fazer uma análise prévia no arquivo CSV que foi gerado a fim de encontrar alguma inconsistência e observando o arquivo eu pude perceber que na extração dos dados dos jogadores uma linha vazia ao final da tabela estava sendo retornada e isso será nosso pondo de divisão dos dados."
      ]
    },
    {
      "cell_type": "code",
      "execution_count": 101,
      "metadata": {
        "colab": {
          "base_uri": "https://localhost:8080/"
        },
        "id": "t9Tpp_yrgUG6",
        "outputId": "228acf46-2017-4664-efae-e88ae5266ee9"
      },
      "outputs": [
        {
          "name": "stdout",
          "output_type": "stream",
          "text": [
            "Dividido na primeira linha vazia (índice 736)\n"
          ]
        }
      ],
      "source": [
        "linhas_vazias = estatisticas_temporada[estatisticas_temporada.isnull().all(axis=1)]\n",
        "\n",
        "if not linhas_vazias.empty:\n",
        "    # Pegar o índice da primeira linha vazia\n",
        "    primeira_linha_vazia = linhas_vazias.index[0]\n",
        "\n",
        "    # Cria o primeiro data frame da linha vazia pra CIMA - a linha vazia (não quero a linha vazia no csv)\n",
        "    df_temporada_regular = estatisticas_temporada.iloc[:primeira_linha_vazia - 1].copy()\n",
        "\n",
        "    # Cria o segundo data frame da linha vazia pra BAIXO\n",
        "    df_playoff = estatisticas_temporada.iloc[primeira_linha_vazia:].copy()\n",
        "\n",
        "    print(f\"Dividido na primeira linha vazia (índice {primeira_linha_vazia})\")\n",
        "\n",
        "df_temporada_regular.to_csv(f\"arquivo_estatistica_jogador_regular_{temporada}.csv\", index=False)\n",
        "df_playoff.to_csv(f\"arquivo_estatistica_jogador_playoff_{temporada}.csv\", index=False)"
      ]
    },
    {
      "cell_type": "markdown",
      "metadata": {
        "id": "H40DtpnH4LV1"
      },
      "source": [
        "# Análise - Indiana Pacers e Oklahoma City Thunder"
      ]
    },
    {
      "cell_type": "markdown",
      "metadata": {
        "id": "m5RIlYzDCP76"
      },
      "source": [
        "## Carregar os dados\n",
        "\n",
        "Primeiro nós fazemos a carga dos dados que criamos anteriormente e salvamos em CSV."
      ]
    },
    {
      "cell_type": "code",
      "execution_count": 102,
      "metadata": {
        "colab": {
          "base_uri": "https://localhost:8080/",
          "height": 235
        },
        "id": "Mimu1pJuCl5K",
        "outputId": "c48705f4-a6a4-4c72-d6e7-5c50700dd6a3"
      },
      "outputs": [
        {
          "data": {
            "text/html": [
              "<div>\n",
              "<style scoped>\n",
              "    .dataframe tbody tr th:only-of-type {\n",
              "        vertical-align: middle;\n",
              "    }\n",
              "\n",
              "    .dataframe tbody tr th {\n",
              "        vertical-align: top;\n",
              "    }\n",
              "\n",
              "    .dataframe thead th {\n",
              "        text-align: right;\n",
              "    }\n",
              "</style>\n",
              "<table border=\"1\" class=\"dataframe\">\n",
              "  <thead>\n",
              "    <tr style=\"text-align: right;\">\n",
              "      <th></th>\n",
              "      <th>Player</th>\n",
              "      <th>Age</th>\n",
              "      <th>Team</th>\n",
              "      <th>Pos</th>\n",
              "      <th>G</th>\n",
              "      <th>GS</th>\n",
              "      <th>MP</th>\n",
              "      <th>FG</th>\n",
              "      <th>FGA</th>\n",
              "      <th>FG%</th>\n",
              "      <th>...</th>\n",
              "      <th>DRB</th>\n",
              "      <th>TRB</th>\n",
              "      <th>AST</th>\n",
              "      <th>STL</th>\n",
              "      <th>BLK</th>\n",
              "      <th>TOV</th>\n",
              "      <th>PF</th>\n",
              "      <th>PTS</th>\n",
              "      <th>Trp-Dbl</th>\n",
              "      <th>Awards</th>\n",
              "    </tr>\n",
              "  </thead>\n",
              "  <tbody>\n",
              "    <tr>\n",
              "      <th>0</th>\n",
              "      <td>Shai Gilgeous-Alexander</td>\n",
              "      <td>26</td>\n",
              "      <td>OKC</td>\n",
              "      <td>PG</td>\n",
              "      <td>23</td>\n",
              "      <td>23</td>\n",
              "      <td>851</td>\n",
              "      <td>233</td>\n",
              "      <td>504</td>\n",
              "      <td>0.462</td>\n",
              "      <td>...</td>\n",
              "      <td>100</td>\n",
              "      <td>123</td>\n",
              "      <td>150</td>\n",
              "      <td>38</td>\n",
              "      <td>20</td>\n",
              "      <td>60</td>\n",
              "      <td>65</td>\n",
              "      <td>688</td>\n",
              "      <td>0</td>\n",
              "      <td>Finals MVP-1</td>\n",
              "    </tr>\n",
              "    <tr>\n",
              "      <th>1</th>\n",
              "      <td>Jalen Brunson</td>\n",
              "      <td>28</td>\n",
              "      <td>NYK</td>\n",
              "      <td>PG</td>\n",
              "      <td>18</td>\n",
              "      <td>18</td>\n",
              "      <td>680</td>\n",
              "      <td>181</td>\n",
              "      <td>393</td>\n",
              "      <td>0.461</td>\n",
              "      <td>...</td>\n",
              "      <td>50</td>\n",
              "      <td>62</td>\n",
              "      <td>126</td>\n",
              "      <td>8</td>\n",
              "      <td>5</td>\n",
              "      <td>55</td>\n",
              "      <td>59</td>\n",
              "      <td>530</td>\n",
              "      <td>0</td>\n",
              "      <td>NaN</td>\n",
              "    </tr>\n",
              "    <tr>\n",
              "      <th>2</th>\n",
              "      <td>Jalen Williams</td>\n",
              "      <td>23</td>\n",
              "      <td>OKC</td>\n",
              "      <td>SG</td>\n",
              "      <td>23</td>\n",
              "      <td>23</td>\n",
              "      <td>796</td>\n",
              "      <td>178</td>\n",
              "      <td>396</td>\n",
              "      <td>0.449</td>\n",
              "      <td>...</td>\n",
              "      <td>103</td>\n",
              "      <td>127</td>\n",
              "      <td>111</td>\n",
              "      <td>32</td>\n",
              "      <td>9</td>\n",
              "      <td>41</td>\n",
              "      <td>50</td>\n",
              "      <td>492</td>\n",
              "      <td>0</td>\n",
              "      <td>NaN</td>\n",
              "    </tr>\n",
              "    <tr>\n",
              "      <th>3</th>\n",
              "      <td>Pascal Siakam</td>\n",
              "      <td>30</td>\n",
              "      <td>IND</td>\n",
              "      <td>PF</td>\n",
              "      <td>23</td>\n",
              "      <td>23</td>\n",
              "      <td>771</td>\n",
              "      <td>175</td>\n",
              "      <td>341</td>\n",
              "      <td>0.513</td>\n",
              "      <td>...</td>\n",
              "      <td>116</td>\n",
              "      <td>146</td>\n",
              "      <td>78</td>\n",
              "      <td>28</td>\n",
              "      <td>16</td>\n",
              "      <td>30</td>\n",
              "      <td>66</td>\n",
              "      <td>472</td>\n",
              "      <td>0</td>\n",
              "      <td>NaN</td>\n",
              "    </tr>\n",
              "    <tr>\n",
              "      <th>4</th>\n",
              "      <td>Tyrese Haliburton</td>\n",
              "      <td>24</td>\n",
              "      <td>IND</td>\n",
              "      <td>PG</td>\n",
              "      <td>23</td>\n",
              "      <td>23</td>\n",
              "      <td>772</td>\n",
              "      <td>146</td>\n",
              "      <td>315</td>\n",
              "      <td>0.463</td>\n",
              "      <td>...</td>\n",
              "      <td>116</td>\n",
              "      <td>123</td>\n",
              "      <td>197</td>\n",
              "      <td>30</td>\n",
              "      <td>15</td>\n",
              "      <td>53</td>\n",
              "      <td>39</td>\n",
              "      <td>399</td>\n",
              "      <td>1</td>\n",
              "      <td>NaN</td>\n",
              "    </tr>\n",
              "  </tbody>\n",
              "</table>\n",
              "<p>5 rows × 31 columns</p>\n",
              "</div>"
            ],
            "text/plain": [
              "                    Player  Age Team Pos   G  GS   MP   FG  FGA    FG%  ...  \\\n",
              "0  Shai Gilgeous-Alexander   26  OKC  PG  23  23  851  233  504  0.462  ...   \n",
              "1            Jalen Brunson   28  NYK  PG  18  18  680  181  393  0.461  ...   \n",
              "2           Jalen Williams   23  OKC  SG  23  23  796  178  396  0.449  ...   \n",
              "3            Pascal Siakam   30  IND  PF  23  23  771  175  341  0.513  ...   \n",
              "4        Tyrese Haliburton   24  IND  PG  23  23  772  146  315  0.463  ...   \n",
              "\n",
              "   DRB  TRB  AST  STL  BLK  TOV  PF  PTS  Trp-Dbl        Awards  \n",
              "0  100  123  150   38   20   60  65  688        0  Finals MVP-1  \n",
              "1   50   62  126    8    5   55  59  530        0           NaN  \n",
              "2  103  127  111   32    9   41  50  492        0           NaN  \n",
              "3  116  146   78   28   16   30  66  472        0           NaN  \n",
              "4  116  123  197   30   15   53  39  399        1           NaN  \n",
              "\n",
              "[5 rows x 31 columns]"
            ]
          },
          "execution_count": 102,
          "metadata": {},
          "output_type": "execute_result"
        }
      ],
      "source": [
        "df_full = pd.read_csv(f\"arquivo_estatistica_jogador_playoff_{temporada}.csv\")\n",
        "df_full.head()"
      ]
    },
    {
      "cell_type": "markdown",
      "metadata": {
        "id": "yqWkpCSqCtPU"
      },
      "source": [
        "## Definição de quais jogadores vão entrar na análise\n",
        "\n",
        "Esse trecho de código serve para selecionar apenas os jogadores que possuem mais de 8 jogos jogados e que tenham mais de 1 ponto marcado.\n",
        "\n",
        "**OBS:** Vale destacar que para fazer esse filtro eu utilizei todos os jogadores de todos os times que foram para o playoff de 2025."
      ]
    },
    {
      "cell_type": "code",
      "execution_count": 103,
      "metadata": {
        "colab": {
          "base_uri": "https://localhost:8080/",
          "height": 235
        },
        "id": "BzjroNS6C2su",
        "outputId": "b1973890-e311-4e57-8b01-104e516cf197"
      },
      "outputs": [
        {
          "data": {
            "text/html": [
              "<div>\n",
              "<style scoped>\n",
              "    .dataframe tbody tr th:only-of-type {\n",
              "        vertical-align: middle;\n",
              "    }\n",
              "\n",
              "    .dataframe tbody tr th {\n",
              "        vertical-align: top;\n",
              "    }\n",
              "\n",
              "    .dataframe thead th {\n",
              "        text-align: right;\n",
              "    }\n",
              "</style>\n",
              "<table border=\"1\" class=\"dataframe\">\n",
              "  <thead>\n",
              "    <tr style=\"text-align: right;\">\n",
              "      <th></th>\n",
              "      <th>Player</th>\n",
              "      <th>Age</th>\n",
              "      <th>Team</th>\n",
              "      <th>Pos</th>\n",
              "      <th>G</th>\n",
              "      <th>GS</th>\n",
              "      <th>MP</th>\n",
              "      <th>FG</th>\n",
              "      <th>FGA</th>\n",
              "      <th>FG%</th>\n",
              "      <th>...</th>\n",
              "      <th>DRB</th>\n",
              "      <th>TRB</th>\n",
              "      <th>AST</th>\n",
              "      <th>STL</th>\n",
              "      <th>BLK</th>\n",
              "      <th>TOV</th>\n",
              "      <th>PF</th>\n",
              "      <th>PTS</th>\n",
              "      <th>Trp-Dbl</th>\n",
              "      <th>Awards</th>\n",
              "    </tr>\n",
              "  </thead>\n",
              "  <tbody>\n",
              "    <tr>\n",
              "      <th>0</th>\n",
              "      <td>Shai Gilgeous-Alexander</td>\n",
              "      <td>26</td>\n",
              "      <td>OKC</td>\n",
              "      <td>PG</td>\n",
              "      <td>23</td>\n",
              "      <td>23</td>\n",
              "      <td>851</td>\n",
              "      <td>233</td>\n",
              "      <td>504</td>\n",
              "      <td>0.462</td>\n",
              "      <td>...</td>\n",
              "      <td>100</td>\n",
              "      <td>123</td>\n",
              "      <td>150</td>\n",
              "      <td>38</td>\n",
              "      <td>20</td>\n",
              "      <td>60</td>\n",
              "      <td>65</td>\n",
              "      <td>688</td>\n",
              "      <td>0</td>\n",
              "      <td>Finals MVP-1</td>\n",
              "    </tr>\n",
              "    <tr>\n",
              "      <th>1</th>\n",
              "      <td>Jalen Brunson</td>\n",
              "      <td>28</td>\n",
              "      <td>NYK</td>\n",
              "      <td>PG</td>\n",
              "      <td>18</td>\n",
              "      <td>18</td>\n",
              "      <td>680</td>\n",
              "      <td>181</td>\n",
              "      <td>393</td>\n",
              "      <td>0.461</td>\n",
              "      <td>...</td>\n",
              "      <td>50</td>\n",
              "      <td>62</td>\n",
              "      <td>126</td>\n",
              "      <td>8</td>\n",
              "      <td>5</td>\n",
              "      <td>55</td>\n",
              "      <td>59</td>\n",
              "      <td>530</td>\n",
              "      <td>0</td>\n",
              "      <td>NaN</td>\n",
              "    </tr>\n",
              "    <tr>\n",
              "      <th>2</th>\n",
              "      <td>Jalen Williams</td>\n",
              "      <td>23</td>\n",
              "      <td>OKC</td>\n",
              "      <td>SG</td>\n",
              "      <td>23</td>\n",
              "      <td>23</td>\n",
              "      <td>796</td>\n",
              "      <td>178</td>\n",
              "      <td>396</td>\n",
              "      <td>0.449</td>\n",
              "      <td>...</td>\n",
              "      <td>103</td>\n",
              "      <td>127</td>\n",
              "      <td>111</td>\n",
              "      <td>32</td>\n",
              "      <td>9</td>\n",
              "      <td>41</td>\n",
              "      <td>50</td>\n",
              "      <td>492</td>\n",
              "      <td>0</td>\n",
              "      <td>NaN</td>\n",
              "    </tr>\n",
              "    <tr>\n",
              "      <th>3</th>\n",
              "      <td>Pascal Siakam</td>\n",
              "      <td>30</td>\n",
              "      <td>IND</td>\n",
              "      <td>PF</td>\n",
              "      <td>23</td>\n",
              "      <td>23</td>\n",
              "      <td>771</td>\n",
              "      <td>175</td>\n",
              "      <td>341</td>\n",
              "      <td>0.513</td>\n",
              "      <td>...</td>\n",
              "      <td>116</td>\n",
              "      <td>146</td>\n",
              "      <td>78</td>\n",
              "      <td>28</td>\n",
              "      <td>16</td>\n",
              "      <td>30</td>\n",
              "      <td>66</td>\n",
              "      <td>472</td>\n",
              "      <td>0</td>\n",
              "      <td>NaN</td>\n",
              "    </tr>\n",
              "    <tr>\n",
              "      <th>4</th>\n",
              "      <td>Tyrese Haliburton</td>\n",
              "      <td>24</td>\n",
              "      <td>IND</td>\n",
              "      <td>PG</td>\n",
              "      <td>23</td>\n",
              "      <td>23</td>\n",
              "      <td>772</td>\n",
              "      <td>146</td>\n",
              "      <td>315</td>\n",
              "      <td>0.463</td>\n",
              "      <td>...</td>\n",
              "      <td>116</td>\n",
              "      <td>123</td>\n",
              "      <td>197</td>\n",
              "      <td>30</td>\n",
              "      <td>15</td>\n",
              "      <td>53</td>\n",
              "      <td>39</td>\n",
              "      <td>399</td>\n",
              "      <td>1</td>\n",
              "      <td>NaN</td>\n",
              "    </tr>\n",
              "  </tbody>\n",
              "</table>\n",
              "<p>5 rows × 31 columns</p>\n",
              "</div>"
            ],
            "text/plain": [
              "                    Player  Age Team Pos   G  GS   MP   FG  FGA    FG%  ...  \\\n",
              "0  Shai Gilgeous-Alexander   26  OKC  PG  23  23  851  233  504  0.462  ...   \n",
              "1            Jalen Brunson   28  NYK  PG  18  18  680  181  393  0.461  ...   \n",
              "2           Jalen Williams   23  OKC  SG  23  23  796  178  396  0.449  ...   \n",
              "3            Pascal Siakam   30  IND  PF  23  23  771  175  341  0.513  ...   \n",
              "4        Tyrese Haliburton   24  IND  PG  23  23  772  146  315  0.463  ...   \n",
              "\n",
              "   DRB  TRB  AST  STL  BLK  TOV  PF  PTS  Trp-Dbl        Awards  \n",
              "0  100  123  150   38   20   60  65  688        0  Finals MVP-1  \n",
              "1   50   62  126    8    5   55  59  530        0           NaN  \n",
              "2  103  127  111   32    9   41  50  492        0           NaN  \n",
              "3  116  146   78   28   16   30  66  472        0           NaN  \n",
              "4  116  123  197   30   15   53  39  399        1           NaN  \n",
              "\n",
              "[5 rows x 31 columns]"
            ]
          },
          "execution_count": 103,
          "metadata": {},
          "output_type": "execute_result"
        }
      ],
      "source": [
        "min_jogos = 8\n",
        "min_pontos = 0\n",
        "\n",
        "df = df_full[(df_full['G'] >= min_jogos) & (df_full['PTS'] > min_pontos)].copy()\n",
        "\n",
        "df.head()"
      ]
    },
    {
      "cell_type": "markdown",
      "metadata": {
        "id": "PXNwujlqDTzW"
      },
      "source": [
        "## Métricas de ataque e defesa\n",
        "\n",
        "Nesse trecho eu criei as métricas para dar valor ao ataque e defesa de cada jogador e cada campo tem o seu peso.\n",
        "\n",
        "Como não existe um campo de estatística que dê valor ao poder de ataque e defesa do jogador essa técnica foi necessária.\n",
        "\n",
        "*   Para dar valor ao 'ataque' eu usei os campos onde o peso estipulei em: 'PTS' = 1, 'AST' = 0.5 e 'ORB' = 0.3\n",
        "*   Para dar valor a 'defesa' eu usei os campos onde o peso estipulei em: 'STL' = 1, 'BLK' = 1 e 'DRB' = 0.5\n",
        "\n"
      ]
    },
    {
      "cell_type": "code",
      "execution_count": 104,
      "metadata": {
        "id": "mHEEElmkENgC"
      },
      "outputs": [],
      "source": [
        "# Criar métricas de ataque e defesa\n",
        "df['Ataque'] = df['PTS'] + (df['AST'] * 0.5) + (df['ORB'] * 0.3)\n",
        "df['Defesa'] = df['STL'] + df['BLK'] + (df['DRB'] * 0.5)\n",
        "\n",
        "# Normalizar por minutos jogados\n",
        "df['Ataque_por_minuto'] = df['Ataque'] / df['MP']\n",
        "df['Defesa_por_minuto'] = df['Defesa'] / df['MP']"
      ]
    },
    {
      "cell_type": "markdown",
      "metadata": {
        "id": "H8k5-eRPJfbQ"
      },
      "source": [
        "## Criação do gráfico de dispersão\n"
      ]
    },
    {
      "cell_type": "code",
      "execution_count": 105,
      "metadata": {
        "colab": {
          "base_uri": "https://localhost:8080/",
          "height": 809
        },
        "id": "ucfEI-erJild",
        "outputId": "d4b69267-0bf8-414e-a952-f90e4299fc38"
      },
      "outputs": [
        {
          "data": {
            "image/png": "[encoded data removed]",
            "text/plain": [
              "<Figure size 1200x800 with 1 Axes>"
            ]
          },
          "metadata": {},
          "output_type": "display_data"
        }
      ],
      "source": [
        "# Especifica o tamanho do gráfico\n",
        "plt.figure(figsize=(12, 8))\n",
        "\n",
        "# Filtrar apenas os times OKC e IND para o scatterplot\n",
        "df_filtrado = df[df['Team'].isin(['OKC', 'IND'])]\n",
        "\n",
        "cores_personalizadas = {\n",
        "    'OKC': '#007AC1',  # Azul do OKC Thunder\n",
        "    'IND': '#FDBB30'   # Dourado do Indiana Pacers\n",
        "}\n",
        "\n",
        "# Criar o gráfico de dispersao colorido por time\n",
        "grafico = sns.scatterplot(data=df_filtrado,\n",
        "                         x='Ataque_por_minuto',\n",
        "                         y='Defesa_por_minuto',\n",
        "                         hue='Team',  # Cor por time\n",
        "                         palette=cores_personalizadas,\n",
        "                         alpha=0.7,\n",
        "                         s=100,\n",
        "                         edgecolor='black',\n",
        "                         linewidth=0.5)\n",
        "\n",
        "# Adicionar labels para 20 jogadores destacados por minutos jogados\n",
        "for i, row in df_filtrado.nlargest(50, 'MP').iterrows():\n",
        "    plt.annotate(row['Player'], # nome do jogador\n",
        "                (row['Ataque_por_minuto'], row['Defesa_por_minuto']), # posicao que o nome vai ficar\n",
        "                xytext=(5, 5), # Distancia do nome pro ponto\n",
        "                textcoords='offset points',\n",
        "                fontsize=10,\n",
        "                alpha=0.7)\n",
        "\n",
        "plt.xlabel('Índice de Ataque (por minuto)', fontsize=12) # Nome eixo X\n",
        "plt.ylabel('Índice de Defesa (por minuto)', fontsize=12) # Nome eixo Y\n",
        "plt.title(f'Relação entre Ataque e Defesa - Jogadores NBA - Temporada {temporada} Playoff') # Nome do gráfico\n",
        "plt.grid(True, alpha=0.3) # Ativa a grade do grafico\n",
        "\n",
        "# Adicionar linhas de média\n",
        "plt.axvline(df['Ataque_por_minuto'].mean(), color='red', linestyle='--', alpha=0.7, label='Média Ataque Playoff')\n",
        "plt.axhline(df['Defesa_por_minuto'].mean(), color='blue', linestyle='--', alpha=0.7, label='Média Defesa Playoof')\n",
        "\n",
        "# Especificando os quadrantes\n",
        "plt.text(0.95, 0.95, 'Alto Ataque/\\nAlta Defesa', transform=plt.gca().transAxes, fontsize=9, ha='right', va='top')\n",
        "plt.text(0.05, 0.95, 'Baixo Ataque/\\nAlta Defesa', transform=plt.gca().transAxes, fontsize=9, ha='left', va='top')\n",
        "plt.text(0.05, 0.05, 'Baixo Ataque/\\nBaixa Defesa', transform=plt.gca().transAxes, fontsize=9, ha='left', va='bottom')\n",
        "plt.text(0.95, 0.05, 'Alto Ataque/\\nBaixa Defesa', transform=plt.gca().transAxes, fontsize=9, ha='right', va='bottom')\n",
        "\n",
        "# Ajustar a legenda\n",
        "plt.legend(bbox_to_anchor=(1.05, 1), loc='upper left', borderaxespad=0., fontsize=10)\n",
        "\n",
        "# Totais\n",
        "stats_text = f\"Total de Jogadores: {len(df_filtrado)}\\nOKC: {len(df_filtrado[df_filtrado['Team']=='OKC'])} | IND: {len(df_filtrado[df_filtrado['Team']=='IND'])}\"\n",
        "plt.figtext(0.02, 0.02, stats_text, fontsize=9, alpha=0.7)\n",
        "\n",
        "plt.tight_layout()\n",
        "plt.show()"
      ]
    },
    {
      "cell_type": "markdown",
      "metadata": {
        "id": "HPvuJp5kMH3M"
      },
      "source": [
        "## Análise a respeito do gráfico de dispersão\n",
        "\n",
        "### Descrição Geral do Gráfico\n",
        "* O gráfico é um diagrama de dispersão (scatter plot) com:\n",
        "\n",
        "* Eixo X: Índice de Ataque por minuto;\n",
        "\n",
        "* Eixo Y: Índice de Defesa por minuto;\n",
        "\n",
        "* Cada ponto representa um jogador, identificado pelo nome;\n",
        "\n",
        "* Linhas de média para ataque em vermelho e defesa em azul.\n",
        "\n",
        "### Observações Principais\n",
        "\n",
        "Shai Gilgeous-Alexander (Finals MVP):\n",
        "\n",
        "* Destaque claro no gráfico: maior média de ataque e defesa entre todos.\n",
        "\n",
        "* Perfil completo: ofensivo e defensivo, mas sendo mais ofensivo.\n",
        "\n",
        "Top 3 jogadores mais defensivos:\n",
        "\n",
        "* Isaiah Hartenstein, Jaylin Williams e Chet Holmgren.\n",
        "\n",
        "Top 3 jogadores mais ofensivos:\n",
        "\n",
        "* Shai Gilgeous-Alexander, Jalen Williams e Paskal Siakam.\n",
        "\n",
        "Top 3 pé de rato:\n",
        "\n",
        "* Johnny Furphy, Ben Sheppard e Tony Bradley.\n",
        "\n",
        "* Os três são os mais próximos da origem do gráfico e dentre os jogadores analisados eles tem as piores estatisticas.\n",
        "\n",
        "### Conclusões:\n",
        "\n",
        "A equipe Oklahoma City Thunder tem um núcleo forte ofensivo com Shai Gilgeous-Alexander, Jalen Williams e o top 3 defensivos, tornando um time muito equilibrado e matador.\n",
        "\n",
        "Com isso o Shai Gilgeous-Alexander é o líder absoluto da equipe em contribuição geral e foi eleito o MVP da final.\n",
        "\n",
        "Não é à toa que o Oklahoma City Thunder foi o campeão da temporada 2025 da NBA.\n"
      ]
    },
    {
      "cell_type": "markdown",
      "metadata": {
        "id": "9P2AKKOxomBw"
      },
      "source": [
        "---\n",
        "Estou precisando de emprego quem tiver uma vaga de analista de dados jr. fala comigo (cicero.alcantara17@gmail.com) amo vocês <3"
      ]
    }
  ],
  "metadata": {
    "colab": {
      "provenance": []
    },
    "kernelspec": {
      "display_name": "base",
      "language": "python",
      "name": "python3"
    },
    "language_info": {
      "codemirror_mode": {
        "name": "ipython",
        "version": 3
      },
      "file_extension": ".py",
      "mimetype": "text/x-python",
      "name": "python",
      "nbconvert_exporter": "python",
      "pygments_lexer": "ipython3",
      "version": "3.13.5"
    }
  },
  "nbformat": 4,
  "nbformat_minor": 0
}
