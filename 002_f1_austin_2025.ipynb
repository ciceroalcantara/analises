{
  "nbformat": 4,
  "nbformat_minor": 0,
  "metadata": {
    "colab": {
      "provenance": []
    },
    "kernelspec": {
      "name": "python3",
      "display_name": "Python 3"
    },
    "language_info": {
      "name": "python"
    }
  },
  "cells": [
    {
      "cell_type": "code",
      "execution_count": null,
      "metadata": {
        "id": "WwQdTG5tRwPr"
      },
      "outputs": [],
      "source": [
        "import requests\n",
        "import pandas as pd\n",
        "import seaborn as sns\n",
        "import matplotlib.pyplot as plt\n",
        "from matplotlib.ticker import MultipleLocator\n",
        "from pandasql import sqldf # pip install pandasql\n",
        "\n",
        "pysqldf = lambda q: sqldf(q, globals())"
      ]
    },
    {
      "cell_type": "code",
      "source": [
        "session_key = 9888\n",
        "\n",
        "qualificacao_key = 9884"
      ],
      "metadata": {
        "id": "wTUFjwWxSyZn"
      },
      "execution_count": null,
      "outputs": []
    },
    {
      "cell_type": "code",
      "source": [
        "# Carrega os dados das voltas\n",
        "\n",
        "url_session = f\"https://api.openf1.org/v1/laps?session_key={session_key}\"\n",
        "resposta_session = requests.get(url_session)\n",
        "resposta_session.status_code\n",
        "\n",
        "if resposta_session.status_code == 200:\n",
        "  dados_voltas = resposta_session.json()\n",
        "else:\n",
        "  print(f\"Erro na requisição: {resposta_session.status_code}\")\n",
        "\n",
        "def converter_listas_para_string(dados):\n",
        "  dados_processados = []\n",
        "\n",
        "  for i in dados:\n",
        "      novo_item = i.copy()\n",
        "\n",
        "      for chave, valor in novo_item.items():\n",
        "          if isinstance(valor, list):\n",
        "              novo_item[chave] = str(valor)\n",
        "\n",
        "      dados_processados.append(novo_item)\n",
        "\n",
        "  return dados_processados\n",
        "\n",
        "# Aplicar a conversão\n",
        "dados_processados = converter_listas_para_string(dados_voltas)\n",
        "df_voltas = pd.DataFrame(dados_processados)\n",
        "\n",
        "df_voltas"
      ],
      "metadata": {
        "id": "6cuocS56Stts"
      },
      "execution_count": null,
      "outputs": []
    },
    {
      "cell_type": "code",
      "source": [
        "# Carrega os dados dos pilotos\n",
        "\n",
        "url_piloto = f\"https://api.openf1.org/v1/drivers?session_key={session_key}\"\n",
        "resposta_piloto = requests.get(url_piloto)\n",
        "resposta_piloto.status_code\n",
        "\n",
        "if resposta_piloto.status_code == 200:\n",
        "  dados_piloto = resposta_piloto.json()\n",
        "  df_piloto = pd.DataFrame(dados_piloto)\n",
        "  df_piloto_final = df_piloto[['driver_number', 'name_acronym', 'team_colour']].copy()\n",
        "  # Adicionar # ao campo de cores\n",
        "  df_piloto_final['team_colour'] = '#' + df_piloto_final['team_colour']\n",
        "else:\n",
        "  print(f\"Erro na requisição: {resposta_piloto.status_code}\")\n",
        "\n",
        "df_piloto_final"
      ],
      "metadata": {
        "id": "_CENgtisiGGN"
      },
      "execution_count": null,
      "outputs": []
    },
    {
      "cell_type": "code",
      "source": [
        "# Carrega os dados de posição de chegada no grid\n",
        "\n",
        "url = f\"https://api.openf1.org/v1/session_result?session_key={session_key}\"\n",
        "resposta_position = requests.get(url)\n",
        "\n",
        "if resposta_position.status_code == 200:\n",
        "    df_posicao = pd.DataFrame(resposta_position.json())\n",
        "    posicoes_finais = df_posicao.groupby('driver_number')['position'].last().sort_values()\n",
        "    df_posicoes_finais = pd.DataFrame(posicoes_finais)\n",
        "else:\n",
        "    print(f\"Erro: {resposta_position.status_code}\")\n",
        "\n",
        "df_posicoes_finais"
      ],
      "metadata": {
        "id": "doNfQ-4ibHST"
      },
      "execution_count": null,
      "outputs": []
    },
    {
      "cell_type": "code",
      "source": [
        "# Carrega os dados de qualificação\n",
        "\n",
        "url_qualificacao = f\"https://api.openf1.org/v1/starting_grid?session_key={qualificacao_key}\"\n",
        "resposta_qualificacao = requests.get(url_qualificacao)\n",
        "resposta_qualificacao.status_code\n",
        "\n",
        "if resposta_qualificacao.status_code == 200:\n",
        "  dados_qualificacao = resposta_qualificacao.json()\n",
        "  df_qualificacao = pd.DataFrame(dados_qualificacao)\n",
        "else:\n",
        "  print(f\"Erro na requisição: {resposta_qualificacao.status_code}\")\n",
        "\n",
        "df_qualificacao"
      ],
      "metadata": {
        "id": "An-NL2KGXzwc"
      },
      "execution_count": null,
      "outputs": []
    },
    {
      "cell_type": "code",
      "source": [
        "consulta_1 = \"\"\"\n",
        "\n",
        "with w_pf_voltas as (\n",
        "  select\n",
        "    *\n",
        "  from\n",
        "    df_voltas\n",
        "), w_pf_piloto as (\n",
        "  select\n",
        "    *\n",
        "  from\n",
        "    df_piloto_final\n",
        "), w_df_posicoes_finais as (\n",
        "  select\n",
        "    driver_number,\n",
        "    position as position_final\n",
        "  from\n",
        "    df_posicoes_finais\n",
        ")\n",
        "select\n",
        "  w1.driver_number,\n",
        "  w1.lap_number,\n",
        "  w1.lap_duration,\n",
        "  w2.name_acronym,\n",
        "  w2.team_colour,\n",
        "  w3.position_final,\n",
        "  avg(w1.lap_duration) over (partition by w1.driver_number) as tempo_medio_volta\n",
        "from\n",
        "  w_pf_voltas w1,\n",
        "  w_pf_piloto w2,\n",
        "  w_df_posicoes_finais w3\n",
        "where\n",
        "  w1.driver_number = w2.driver_number\n",
        "  and w1.driver_number = w3.driver_number\n",
        "\n",
        "\"\"\"\n",
        "\n",
        "# Pass the dataframes explicitly to sqldf and set the environment to locals()\n",
        "voltas_final = sqldf(consulta_1, locals())\n",
        "df_voltas_final = pd.DataFrame(voltas_final)\n",
        "df_voltas_final"
      ],
      "metadata": {
        "id": "qamYs_2EsyOo"
      },
      "execution_count": null,
      "outputs": []
    },
    {
      "cell_type": "code",
      "source": [
        "# Cria o gráfico de boxplot com os tempos de volta dos pilotos e a média\n",
        "\n",
        "\n",
        "\n",
        "# Ordem de chegada dos pilotos\n",
        "ordem_pilotos = df_voltas_final.sort_values('position_final')['name_acronym'].unique()\n",
        "\n",
        "# Dicionário mapeando cada piloto para sua cor de equipe\n",
        "cores_pilotos = dict(zip(df_voltas_final['name_acronym'], df_voltas_final['team_colour']))\n",
        "\n",
        "plt.figure(figsize=(14, 8))\n",
        "ax = sns.boxplot(data=df_voltas_final, x='name_acronym', y='lap_duration',\n",
        "                 order=ordem_pilotos,\n",
        "                 showfliers=False,\n",
        "                 showmeans=True,\n",
        "                 meanprops={\"marker\": \"o\", \"markerfacecolor\": \"red\", \"markeredgecolor\": \"red\", \"markersize\": \"3\"},\n",
        "                 palette=cores_pilotos,\n",
        "                 legend=False,\n",
        "                 hue='name_acronym')\n",
        "\n",
        "plt.title(f'Ritmo de corrida - Sessão: {session_key}')\n",
        "plt.xlabel('Piloto')\n",
        "plt.ylabel('Tempo de volta')\n",
        "plt.grid(True, alpha=0.3)\n",
        "ax.yaxis.set_major_locator(MultipleLocator(0.5))  # Define intervalos de 0.5\n",
        "\n",
        "# Adciona as médias no eixo\n",
        "medias = df_voltas_final.groupby('name_acronym')['tempo_medio_volta'].first().reindex(ordem_pilotos)\n",
        "\n",
        "for i, (piloto, media) in enumerate(medias.items()):\n",
        "    ax.text(i, media, f'{media:.3f}',\n",
        "            ha='center',\n",
        "            va='bottom',\n",
        "            fontsize=9)\n",
        "\n",
        "plt.show()"
      ],
      "metadata": {
        "id": "vecU8WmU7K1a"
      },
      "execution_count": null,
      "outputs": []
    },
    {
      "cell_type": "code",
      "source": [
        "# Usando SQL eu filtro os 3 pilotos que fizeram a volta mais rápida\n",
        "\n",
        "consulta_2 = \"\"\"\n",
        "\n",
        "with w_menor_tempo_piloto as (\n",
        "  select\n",
        "    name_acronym,\n",
        "    lap_number,\n",
        "    min(lap_duration) as lap_duration\n",
        "  from\n",
        "    df_voltas_final\n",
        "  group by\n",
        "    name_acronym\n",
        "  order by\n",
        "    lap_duration asc\n",
        ")\n",
        "select\n",
        "  name_acronym as piloto,\n",
        "  lap_number as num_volta,\n",
        "  lap_duration as tempo_volta_rapida\n",
        "from\n",
        "  w_menor_tempo_piloto\n",
        "limit\n",
        "  3\n",
        "\n",
        "\"\"\"\n",
        "\n",
        "volta_rapida = pysqldf(consulta_2)\n",
        "volta_rapida"
      ],
      "metadata": {
        "id": "XJFsJiNQJX9D"
      },
      "execution_count": null,
      "outputs": []
    },
    {
      "cell_type": "code",
      "source": [
        "# Usando sql eu crio uma tabela que me mostra as posições que os pilotos ganharam ou perderam\n",
        "\n",
        "consulta_3 = \"\"\"\n",
        "\n",
        "with w_qualificacao as (\n",
        "  select\n",
        "    driver_number as piloto,\n",
        "    position as posicao_largada\n",
        "  from\n",
        "    df_qualificacao\n",
        "), w_posicao as (\n",
        "  select\n",
        "    driver_number as piloto,\n",
        "    position as posicao_chegada,\n",
        "    points as pontos\n",
        "  from\n",
        "    df_posicao\n",
        "), w_sigla_piloto as (\n",
        "  select\n",
        "    *\n",
        "  from\n",
        "    df_piloto_final\n",
        ")\n",
        "select\n",
        "  w3.name_acronym as piloto,\n",
        "  w1.posicao_largada,\n",
        "  w2.posicao_chegada,\n",
        "  case\n",
        "    when (w1.posicao_largada - w2.posicao_chegada) > 0 then '+' || (w1.posicao_largada - w2.posicao_chegada)\n",
        "    when (w1.posicao_largada - w2.posicao_chegada) < 0 then '-' || abs(w1.posicao_largada - w2.posicao_chegada)\n",
        "    else 0\n",
        "  end as ganho_posicoes,\n",
        "  cast(w2.pontos as int) as pontos\n",
        "from\n",
        "  w_qualificacao w1,\n",
        "  w_posicao w2,\n",
        "  w_sigla_piloto w3\n",
        "where\n",
        "  w1.piloto = w2.piloto\n",
        "  and w2.piloto = w3.driver_number\n",
        "\n",
        "\"\"\"\n",
        "\n",
        "ganho_posicoes = pysqldf(consulta_3)\n",
        "ganho_posicoes"
      ],
      "metadata": {
        "id": "ksWHfMF9dzxn"
      },
      "execution_count": null,
      "outputs": []
    },
    {
      "cell_type": "code",
      "source": [
        "# Gráfico de ganho de posições\n",
        "\n",
        "# Primeiro, vamos converter a coluna 'ganho_posicoes' para numérico\n",
        "ganho_posicoes['ganho_posicoes_num'] = ganho_posicoes['ganho_posicoes'].astype(float)\n",
        "\n",
        "# Ordenar os dados pela posição de chegada\n",
        "df_sorted = ganho_posicoes.sort_values('posicao_chegada', ascending=True)\n",
        "\n",
        "# Cria o gráfico\n",
        "plt.figure(figsize=(10, 8))\n",
        "plt.axhspan(9.5, 0, alpha=0.2, color='gold') # Criar área de fundo para os 10 primeiros\n",
        "cores = ['red' if x < 0 else 'green' for x in df_sorted['ganho_posicoes_num']] # Define as cores das barras\n",
        "bars = plt.barh(df_sorted['piloto'], df_sorted['ganho_posicoes_num'], color=cores) # Define as barras\n",
        "plt.xlabel('Posições')\n",
        "plt.title(f'Ganho/Perda de Posições - Sessão: {session_key}')\n",
        "plt.grid(True, alpha=0.3, )\n",
        "\n",
        "# Adicionar os valores nas barras\n",
        "for bar, valor in zip(bars, df_sorted['ganho_posicoes_num']):\n",
        "    if valor is not None:\n",
        "      plt.text(bar.get_width(),\n",
        "              bar.get_y() + bar.get_height()/2,\n",
        "              f'{valor:+.0f}' if valor != 0 else f'{valor:.0f}',\n",
        "              ha='left' if valor >= 0 else 'right',\n",
        "              va='center')\n",
        "\n",
        "plt.show()"
      ],
      "metadata": {
        "id": "u--imvdWg_o4"
      },
      "execution_count": null,
      "outputs": []
    }
  ]
}